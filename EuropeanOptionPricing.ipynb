{
  "metadata": {
    "language_info": {
      "codemirror_mode": {
        "name": "python",
        "version": 3
      },
      "file_extension": ".py",
      "mimetype": "text/x-python",
      "name": "python",
      "nbconvert_exporter": "python",
      "pygments_lexer": "ipython3",
      "version": "3.8"
    },
    "kernelspec": {
      "name": "python",
      "display_name": "Python (Pyodide)",
      "language": "python"
    }
  },
  "nbformat_minor": 4,
  "nbformat": 4,
  "cells": [
    {
      "cell_type": "markdown",
      "source": "Importing Necessary libraries",
      "metadata": {}
    },
    {
      "cell_type": "code",
      "source": "import numpy as np\nimport math",
      "metadata": {
        "trusted": true
      },
      "execution_count": 1,
      "outputs": []
    },
    {
      "cell_type": "code",
      "source": "def sqrt(x):                 #Square root calculator (Babylonian Method)\n    n = 1\n    for _ in range(100):\n        n = 0.5*(n + x/n)\n    return n\n\ndef my_cdf(x):               #Cumulative Distribution Function\n    return 0.5*(1+math.erf(x/sqrt(2)))\n\ndef my_exp(x):               #Exponential Generating Function\n    return (2.71828**x)",
      "metadata": {
        "trusted": true
      },
      "execution_count": 2,
      "outputs": []
    },
    {
      "cell_type": "markdown",
      "source": "$S=$spot price of asset,\n$K=$strike price,\n$r=$risk-free interest rate, \n$T=$time to maturity, \n$\\sigma=$volatility of the asset.\n\n\nThe value of European Call option for stock:\n\n\\begin{aligned}\n    C(S_{t},t)&=N(d_{1})S_{t}-N(d_{2})Ke^{-rT}\\\\\n    d_{1}&={\\frac {1}{\\sigma {\\sqrt {T}}}}\\left(\\ln \\left({\\frac {S_{t}}{K}}\\right)+\\left(r+{\\frac {\\sigma ^{2}}{2}}\\right)T\\right)\\\\\n    d_{2}&=d_{1}-\\sigma {\\sqrt {T}}\n\\end{aligned}\n\nThe price of corresponding put option with a discount factor $e^{-rT}$ is:\n\n\\begin{aligned}\n    P(S_{t},t)&=Ke^{-rT}-S_{t}+C(S_{t},t)\\\\\n              &=N(-d_{2})Ke^{-rT}-N(-d_{1})S_{t}\n\\end{aligned}\n",
      "metadata": {}
    },
    {
      "cell_type": "code",
      "source": "def d1(S,K,r,T,sigma):                   #term d1 from above equations\n    return (np.log(S/K)+(r+0.5*sigma**2)*T)/(sigma*sqrt(T))\ndef d2(S,K,r,T,sigma):                   #term d2 from above equations\n    return d1(S,K,r,T,sigma) - (sigma*sqrt(T))\ndef EuropeanCall(S, K, T, r, sigma):     #European Call Option implementation from above equations\n    EuropeanCall = S*my_cdf(d1(S,K,r,T,sigma))-K*my_exp(-r*T)*my_cdf(d2(S,K,r,T,sigma))\n    return(EuropeanCall)\ndef EuropeanPut(S, K, T, r, sigma):      #European Put Option implementation from above equations\n    EuropeanPut = K*my_exp(-r*T)*my_cdf(-d2(S,K,r,T,sigma))-S*my_cdf(-d1(S,K,r,T,sigma))\n    return(EuropeanPut)",
      "metadata": {
        "trusted": true
      },
      "execution_count": 3,
      "outputs": []
    },
    {
      "cell_type": "code",
      "source": "print(f\"Value of European Call is: {round(EuropeanCall(40, 45, 3, 0.01,0.4),2)}\")\nprint(f\"Value of European Put is: {round(EuropeanPut(40, 45, 3, 0.01,0.4),2)}\")",
      "metadata": {
        "trusted": true
      },
      "execution_count": 4,
      "outputs": [
        {
          "name": "stdout",
          "text": "Value of European Call is: 9.59\nValue of European Put is: 13.26\n",
          "output_type": "stream"
        }
      ]
    }
  ]
}